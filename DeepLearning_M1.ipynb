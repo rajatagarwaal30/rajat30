{
  "nbformat": 4,
  "nbformat_minor": 0,
  "metadata": {
    "colab": {
      "name": "DeepLearning M1.ipynb",
      "provenance": []
    },
    "kernelspec": {
      "name": "python3",
      "display_name": "Python 3"
    }
  },
  "cells": [
    {
      "cell_type": "code",
      "metadata": {
        "id": "dkzv9TuH-66B",
        "colab_type": "code",
        "colab": {
          "base_uri": "https://localhost:8080/",
          "height": 34
        },
        "outputId": "50c02a02-8456-4906-cf20-16678279393d"
      },
      "source": [
        "import numpy as np \n",
        "import keras  \n",
        "from keras.datasets import mnist \n",
        "from keras.models import Model \n",
        "from keras.layers import Dense, Input\n",
        "from keras.layers import Conv2D, MaxPooling2D, Dropout, Flatten \n",
        "from keras import backend as k "
      ],
      "execution_count": 1,
      "outputs": [
        {
          "output_type": "stream",
          "text": [
            "Using TensorFlow backend.\n"
          ],
          "name": "stderr"
        }
      ]
    },
    {
      "cell_type": "code",
      "metadata": {
        "id": "tVgKp7aF-8c9",
        "colab_type": "code",
        "colab": {
          "base_uri": "https://localhost:8080/",
          "height": 51
        },
        "outputId": "5c044a2c-c5d3-4a10-f155-cf7d05b4e8e6"
      },
      "source": [
        "(x_train, y_train), (x_test, y_test) = mnist.load_data() "
      ],
      "execution_count": 2,
      "outputs": [
        {
          "output_type": "stream",
          "text": [
            "Downloading data from https://s3.amazonaws.com/img-datasets/mnist.npz\n",
            "11493376/11490434 [==============================] - 1s 0us/step\n"
          ],
          "name": "stdout"
        }
      ]
    },
    {
      "cell_type": "code",
      "metadata": {
        "id": "U2OE8EYW-_Pu",
        "colab_type": "code",
        "colab": {}
      },
      "source": [
        "img_rows, img_cols=28, 28\n",
        "  \n",
        "if k.image_data_format() == 'channels_first': \n",
        "   x_train = x_train.reshape(x_train.shape[0], 1, img_rows, img_cols) \n",
        "   x_test = x_test.reshape(x_test.shape[0], 1, img_rows, img_cols) \n",
        "   inpx = (1, img_rows, img_cols) \n",
        "  \n",
        "else: \n",
        "   x_train = x_train.reshape(x_train.shape[0], img_rows, img_cols, 1) \n",
        "   x_test = x_test.reshape(x_test.shape[0], img_rows, img_cols, 1) \n",
        "   inpx = (img_rows, img_cols, 1) \n",
        "  \n",
        "x_train = x_train.astype('float32') \n",
        "x_test = x_test.astype('float32') \n",
        "x_train /= 255\n",
        "x_test /= 255"
      ],
      "execution_count": 0,
      "outputs": []
    },
    {
      "cell_type": "code",
      "metadata": {
        "id": "GNC776Tj_Df1",
        "colab_type": "code",
        "colab": {}
      },
      "source": [
        "y_train = keras.utils.to_categorical(y_train) \n",
        "y_test = keras.utils.to_categorical(y_test) "
      ],
      "execution_count": 0,
      "outputs": []
    },
    {
      "cell_type": "code",
      "metadata": {
        "id": "2JqOT6DD_Ixz",
        "colab_type": "code",
        "colab": {
          "base_uri": "https://localhost:8080/",
          "height": 258
        },
        "outputId": "d4197dd4-06b6-44cf-b5f3-a66c297f6aa6"
      },
      "source": [
        "inpx = Input(shape=inpx) \n",
        "layer1 = Conv2D(32, kernel_size=(3, 3), activation='relu')(inpx) \n",
        "layer2 = Conv2D(64, (3, 3), activation='relu')(layer1) \n",
        "layer3 = MaxPooling2D(pool_size=(3, 3))(layer2) \n",
        "layer4 = Dropout(0.5)(layer3) \n",
        "layer5 = Flatten()(layer4) \n",
        "layer6 = Dense(250, activation='sigmoid')(layer5) \n",
        "layer7 = Dense(10, activation='softmax')(layer6) "
      ],
      "execution_count": 5,
      "outputs": [
        {
          "output_type": "stream",
          "text": [
            "WARNING:tensorflow:From /usr/local/lib/python3.6/dist-packages/keras/backend/tensorflow_backend.py:66: The name tf.get_default_graph is deprecated. Please use tf.compat.v1.get_default_graph instead.\n",
            "\n",
            "WARNING:tensorflow:From /usr/local/lib/python3.6/dist-packages/keras/backend/tensorflow_backend.py:541: The name tf.placeholder is deprecated. Please use tf.compat.v1.placeholder instead.\n",
            "\n",
            "WARNING:tensorflow:From /usr/local/lib/python3.6/dist-packages/keras/backend/tensorflow_backend.py:4432: The name tf.random_uniform is deprecated. Please use tf.random.uniform instead.\n",
            "\n",
            "WARNING:tensorflow:From /usr/local/lib/python3.6/dist-packages/keras/backend/tensorflow_backend.py:4267: The name tf.nn.max_pool is deprecated. Please use tf.nn.max_pool2d instead.\n",
            "\n",
            "WARNING:tensorflow:From /usr/local/lib/python3.6/dist-packages/keras/backend/tensorflow_backend.py:148: The name tf.placeholder_with_default is deprecated. Please use tf.compat.v1.placeholder_with_default instead.\n",
            "\n",
            "WARNING:tensorflow:From /usr/local/lib/python3.6/dist-packages/keras/backend/tensorflow_backend.py:3733: calling dropout (from tensorflow.python.ops.nn_ops) with keep_prob is deprecated and will be removed in a future version.\n",
            "Instructions for updating:\n",
            "Please use `rate` instead of `keep_prob`. Rate should be set to `rate = 1 - keep_prob`.\n"
          ],
          "name": "stdout"
        }
      ]
    },
    {
      "cell_type": "code",
      "metadata": {
        "id": "H-vndX3c_K28",
        "colab_type": "code",
        "colab": {
          "base_uri": "https://localhost:8080/",
          "height": 581
        },
        "outputId": "ccb2b209-2c32-4537-c043-71b1a99ac1e0"
      },
      "source": [
        "model = Model([inpx], layer7) \n",
        "model.compile(optimizer=keras.optimizers.Adadelta(), \n",
        "              loss=keras.losses.categorical_crossentropy, \n",
        "              metrics=['accuracy']) \n",
        "  \n",
        "model.fit(x_train, y_train, epochs=12, batch_size=500) \n"
      ],
      "execution_count": 6,
      "outputs": [
        {
          "output_type": "stream",
          "text": [
            "WARNING:tensorflow:From /usr/local/lib/python3.6/dist-packages/keras/optimizers.py:793: The name tf.train.Optimizer is deprecated. Please use tf.compat.v1.train.Optimizer instead.\n",
            "\n",
            "WARNING:tensorflow:From /usr/local/lib/python3.6/dist-packages/keras/backend/tensorflow_backend.py:3576: The name tf.log is deprecated. Please use tf.math.log instead.\n",
            "\n",
            "WARNING:tensorflow:From /usr/local/lib/python3.6/dist-packages/tensorflow/python/ops/math_grad.py:1250: add_dispatch_support.<locals>.wrapper (from tensorflow.python.ops.array_ops) is deprecated and will be removed in a future version.\n",
            "Instructions for updating:\n",
            "Use tf.where in 2.0, which has the same broadcast rule as np.where\n",
            "Epoch 1/12\n",
            "60000/60000 [==============================] - 107s 2ms/step - loss: 0.6876 - acc: 0.7839\n",
            "Epoch 2/12\n",
            "60000/60000 [==============================] - 105s 2ms/step - loss: 0.1884 - acc: 0.9473\n",
            "Epoch 3/12\n",
            "60000/60000 [==============================] - 106s 2ms/step - loss: 0.1216 - acc: 0.9654\n",
            "Epoch 4/12\n",
            "60000/60000 [==============================] - 106s 2ms/step - loss: 0.0924 - acc: 0.9729\n",
            "Epoch 5/12\n",
            "60000/60000 [==============================] - 106s 2ms/step - loss: 0.0744 - acc: 0.9786\n",
            "Epoch 6/12\n",
            "60000/60000 [==============================] - 106s 2ms/step - loss: 0.0649 - acc: 0.9809\n",
            "Epoch 7/12\n",
            "60000/60000 [==============================] - 106s 2ms/step - loss: 0.0576 - acc: 0.9832\n",
            "Epoch 8/12\n",
            "60000/60000 [==============================] - 106s 2ms/step - loss: 0.0516 - acc: 0.9848\n",
            "Epoch 9/12\n",
            "60000/60000 [==============================] - 106s 2ms/step - loss: 0.0462 - acc: 0.9862\n",
            "Epoch 10/12\n",
            "60000/60000 [==============================] - 106s 2ms/step - loss: 0.0426 - acc: 0.9873\n",
            "Epoch 11/12\n",
            "60000/60000 [==============================] - 107s 2ms/step - loss: 0.0393 - acc: 0.9883\n",
            "Epoch 12/12\n",
            "60000/60000 [==============================] - 106s 2ms/step - loss: 0.0355 - acc: 0.9895\n"
          ],
          "name": "stdout"
        },
        {
          "output_type": "execute_result",
          "data": {
            "text/plain": [
              "<keras.callbacks.History at 0x7f666a4a7a58>"
            ]
          },
          "metadata": {
            "tags": []
          },
          "execution_count": 6
        }
      ]
    },
    {
      "cell_type": "code",
      "metadata": {
        "id": "vnFv99G3_N0B",
        "colab_type": "code",
        "colab": {
          "base_uri": "https://localhost:8080/",
          "height": 51
        },
        "outputId": "b586929f-a505-4d22-a364-48fdf6faa4bb"
      },
      "source": [
        "score = model.evaluate(x_test, y_test, verbose=0) \n",
        "print('loss=', score[0]) \n",
        "print('accuracy=', score[1]) "
      ],
      "execution_count": 7,
      "outputs": [
        {
          "output_type": "stream",
          "text": [
            "loss= 0.029084320119186303\n",
            "accuracy= 0.9906\n"
          ],
          "name": "stdout"
        }
      ]
    },
    {
      "cell_type": "code",
      "metadata": {
        "id": "Z6l3Zi9uEF9C",
        "colab_type": "code",
        "colab": {}
      },
      "source": [
        ""
      ],
      "execution_count": 0,
      "outputs": []
    }
  ]
}